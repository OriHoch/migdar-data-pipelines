{
 "cells": [
  {
   "cell_type": "markdown",
   "metadata": {},
   "source": [
    "## Initialize credentials to access migdar data\n",
    "\n",
    "It's recommended to start your notebook like this to  set the env vars:\n",
    "\n",
    "```\n",
    "env MIGDAR_USERNAME=\"\" MIGDAR_PASSWORD=\"\" jupyter lab\n",
    "```"
   ]
  },
  {
   "cell_type": "code",
   "execution_count": 1,
   "metadata": {},
   "outputs": [],
   "source": [
    "MIGDAR_PASSWORD = %env MIGDAR_PASSWORD\n",
    "MIGDAR_USERNAME = %env MIGDAR_USERNAME\n",
    "\n",
    "assert len(MIGDAR_USERNAME) > 5 and len(MIGDAR_PASSWORD) > 5"
   ]
  },
  {
   "cell_type": "markdown",
   "metadata": {},
   "source": [
    "#### Create an quthorized requests session"
   ]
  },
  {
   "cell_type": "code",
   "execution_count": 7,
   "metadata": {},
   "outputs": [],
   "source": [
    "import requests\n",
    "\n",
    "migdar_session = requests.Session()\n",
    "migdar_session.auth = (MIGDAR_USERNAME, MIGDAR_PASSWORD)"
   ]
  },
  {
   "cell_type": "markdown",
   "metadata": {},
   "source": [
    "## Download the aggregated search results before moving to the internal search app"
   ]
  },
  {
   "cell_type": "code",
   "execution_count": 3,
   "metadata": {},
   "outputs": [],
   "source": [
    "%%bash -s \"$MIGDAR_USERNAME\" \"$MIGDAR_PASSWORD\"\n",
    "MIGDAR_USERNAME=\"${1}\"\n",
    "MIGDAR_PASSWORD=\"${2}\"\n",
    "\n",
    "# set to \"-0\" to download all rows (It's 470MB)\n",
    "LIMIT_ROWS=\"3000\"\n",
    "\n",
    "mkdir -p data/search_results\n",
    "wget -qO /dev/stdout \\\n",
    "     --http-user=${MIGDAR_USERNAME} --http-password=${MIGDAR_PASSWORD} \\\n",
    "     https://migdar-internal-search.odata.org.il/__data/search_results/unique_records.csv \\\n",
    "| head -n${LIMIT_ROWS} \\\n",
    "> data/search_results/unique_records.csv"
   ]
  },
  {
   "cell_type": "code",
   "execution_count": 4,
   "metadata": {},
   "outputs": [
    {
     "data": {
      "text/html": [
       "<h3>unique_records</h3>"
      ],
      "text/plain": [
       "<IPython.core.display.HTML object>"
      ]
     },
     "metadata": {},
     "output_type": "display_data"
    },
    {
     "data": {
      "text/html": [
       "<table>\n",
       "<thead>\n",
       "<tr><th style=\"text-align: right;\">  #</th><th>title\n",
       "(string)                                                                                          </th><th style=\"text-align: right;\">     pubyear\n",
       "(string)</th><th style=\"text-align: right;\">  migdar_id\n",
       "(integer)</th></tr>\n",
       "</thead>\n",
       "<tbody>\n",
       "<tr><td style=\"text-align: right;\">  1</td><td>הוראות בלתי שגרתיות לתפירת צואר הרחם                                                     </td><td style=\"text-align: right;\">1981</td><td style=\"text-align: right;\">0</td></tr>\n",
       "<tr><td style=\"text-align: right;\">  2</td><td>שינויים בזרימת הדם בשורר הרחם בעקבות הזרקת פרוסטגלנדין ALPHA F2 להפסקת הריון בטרימסטר שני</td><td style=\"text-align: right;\">1984</td><td style=\"text-align: right;\">1</td></tr>\n",
       "</tbody>\n",
       "</table>"
      ],
      "text/plain": [
       "<IPython.core.display.HTML object>"
      ]
     },
     "metadata": {},
     "output_type": "display_data"
    },
    {
     "data": {
      "text/plain": [
       "{}"
      ]
     },
     "execution_count": 4,
     "metadata": {},
     "output_type": "execute_result"
    }
   ],
   "source": [
    "from dataflows import Flow, load, printer, dump_to_path\n",
    "from collections import deque\n",
    "\n",
    "def head(rows):\n",
    "    for rownum, row in enumerate(rows):\n",
    "        if rownum >= 2:\n",
    "            break\n",
    "        yield row\n",
    "\n",
    "Flow(load('data/search_results/unique_records.csv'), head,\n",
    "     printer(tablefmt='html', fields=['title', 'pubyear', 'migdar_id'])).process()[1]"
   ]
  },
  {
   "cell_type": "markdown",
   "metadata": {},
   "source": [
    "## Load the data from GDrive"
   ]
  },
  {
   "cell_type": "markdown",
   "metadata": {},
   "source": [
    "These are the column names we store from the user-entered xlsx files on GDrive"
   ]
  },
  {
   "cell_type": "code",
   "execution_count": 3,
   "metadata": {},
   "outputs": [],
   "source": [
    "SEARCH_IMPORT_FIELD_NAMES = ['Life Domains', 'Resource Type', 'Item Type', 'title', 'pubyear', 'publisher', 'author', \n",
    "                             'language_code', 'custom_metadata', 'publication_distribution_details', 'notes', 'tags', \n",
    "                             'url', 'migdar_id', 'item_type', 'first_ccl_query', 'marc_856']"
   ]
  },
  {
   "cell_type": "code",
   "execution_count": 4,
   "metadata": {},
   "outputs": [
    {
     "data": {
      "text/html": [
       "<h3>search_import</h3>"
      ],
      "text/plain": [
       "<IPython.core.display.HTML object>"
      ]
     },
     "metadata": {},
     "output_type": "display_data"
    },
    {
     "name": "stdout",
     "output_type": "stream",
     "text": [
      "https://migdar-internal-search.odata.org.il/__data/search_import/2018-10-15- ORLY- Gender in conflict + mainstreaming+ based analysis +Income distribution.xlsx\n",
      "#1.2018-10-15- ORLY- Gender in conflict + mainstreaming+ based analysis +Income distribution.xlsx/מקוטלגים: loading sheet\n",
      "https://migdar-internal-search.odata.org.il/__data/search_import/2018-10-16- ORLY - Feminism and Science_HEB.xlsx\n",
      "#2.2018-10-16- ORLY - Feminism and Science_HEB.xlsx/מקוטלגים: loading sheet\n",
      "https://migdar-internal-search.odata.org.il/__data/search_import/2018-08-30- ORLY - Sex discriminationHEB.xlsx\n",
      "#3.2018-08-30- ORLY - Sex discriminationHEB.xlsx/מקוטלגים: loading sheet\n",
      "https://migdar-internal-search.odata.org.il/__data/search_import/2018-08-29- Talia - Employee rights_heb.xlsx\n",
      "#4.2018-08-29- Talia - Employee rights_heb.xlsx/Sheet1: loading sheet\n",
      "https://migdar-internal-search.odata.org.il/__data/search_import/2018-08-10- Havatzelet- Feminsm  HEB.xlsx\n",
      "#5.2018-08-10- Havatzelet- Feminsm  HEB.xlsx/מקוטלגים: loading sheet\n",
      "https://migdar-internal-search.odata.org.il/__data/search_import/2018-08-26 women_committee_background_material.xlsx\n",
      "#6.2018-08-26 women_committee_background_material.xlsx/women_committee_background_mate: loading sheet\n",
      "    2018-08-26 women_committee_background_material.xlsx/women_committee_background_mate#0: missing migdar_id\n",
      "    2018-08-26 women_committee_background_material.xlsx/women_committee_background_mate#7: missing migdar_id\n",
      "    2018-08-26 women_committee_background_material.xlsx/women_committee_background_mate#9: missing migdar_id\n",
      "    2018-08-26 women_committee_background_material.xlsx/women_committee_background_mate#44: missing migdar_id\n",
      "    2018-08-26 women_committee_background_material.xlsx/women_committee_background_mate#69: missing migdar_id\n",
      "    2018-08-26 women_committee_background_material.xlsx/women_committee_background_mate#73: missing migdar_id\n",
      "    2018-08-26 women_committee_background_material.xlsx/women_committee_background_mate#75: missing migdar_id\n",
      "    2018-08-26 women_committee_background_material.xlsx/women_committee_background_mate#87: missing migdar_id\n",
      "    2018-08-26 women_committee_background_material.xlsx/women_committee_background_mate#92: missing migdar_id\n",
      "    2018-08-26 women_committee_background_material.xlsx/women_committee_background_mate#105: missing migdar_id\n",
      "    2018-08-26 women_committee_background_material.xlsx/women_committee_background_mate#107: missing migdar_id\n",
      "    2018-08-26 women_committee_background_material.xlsx/women_committee_background_mate#109: missing migdar_id\n",
      "    2018-08-26 women_committee_background_material.xlsx/women_committee_background_mate#116: missing migdar_id\n",
      "    2018-08-26 women_committee_background_material.xlsx/women_committee_background_mate#129: missing migdar_id\n",
      "    2018-08-26 women_committee_background_material.xlsx/women_committee_background_mate#132: missing migdar_id\n",
      "    2018-08-26 women_committee_background_material.xlsx/women_committee_background_mate#135: missing migdar_id\n",
      "    2018-08-26 women_committee_background_material.xlsx/women_committee_background_mate#140: missing migdar_id\n",
      "    2018-08-26 women_committee_background_material.xlsx/women_committee_background_mate#142: missing migdar_id\n",
      "    2018-08-26 women_committee_background_material.xlsx/women_committee_background_mate#150: missing migdar_id\n",
      "    2018-08-26 women_committee_background_material.xlsx/women_committee_background_mate#153: missing migdar_id\n",
      "    2018-08-26 women_committee_background_material.xlsx/women_committee_background_mate#158: missing migdar_id\n",
      "    2018-08-26 women_committee_background_material.xlsx/women_committee_background_mate#162: missing migdar_id\n",
      "    2018-08-26 women_committee_background_material.xlsx/women_committee_background_mate#166: missing migdar_id\n",
      "    2018-08-26 women_committee_background_material.xlsx/women_committee_background_mate#168: missing migdar_id\n",
      "    2018-08-26 women_committee_background_material.xlsx/women_committee_background_mate#171: missing migdar_id\n",
      "    2018-08-26 women_committee_background_material.xlsx/women_committee_background_mate#176: missing migdar_id\n",
      "    2018-08-26 women_committee_background_material.xlsx/women_committee_background_mate#178: missing migdar_id\n",
      "https://migdar-internal-search.odata.org.il/__data/search_import/2018-08-26  women_committee_protocols.xlsx\n",
      "#7.2018-08-26  women_committee_protocols.xlsx/women_committee_protocols: loading sheet\n",
      "    2018-08-26  women_committee_protocols.xlsx/women_committee_protocols#0: missing migdar_id\n",
      "    2018-08-26  women_committee_protocols.xlsx/women_committee_protocols#1: missing migdar_id\n",
      "https://migdar-internal-search.odata.org.il/__data/search_import/2018-08-16- Havatzelet- Feminist Criticism  HEB.xlsx\n",
      "#8.2018-08-16- Havatzelet- Feminist Criticism  HEB.xlsx/מקוטלגים: loading sheet\n",
      "https://migdar-internal-search.odata.org.il/__data/search_import/2018-09-03- Havatzelet- Femininity  HEB.xlsx\n",
      "#9.2018-09-03- Havatzelet- Femininity  HEB.xlsx/מקוטלגים: loading sheet\n",
      "https://migdar-internal-search.odata.org.il/__data/search_import/2018-08-12- Talia - Domestic relations courts heb  .xlsx\n",
      "#10.2018-08-12- Talia - Domestic relations courts heb  .xlsx/רשימת פריטים: loading sheet\n",
      "https://migdar-internal-search.odata.org.il/__data/search_import/2018-05-29- ORLY -buisenesswomen - ENG.xlsx\n",
      "#11.2018-05-29- ORLY -buisenesswomen - ENG.xlsx/מקוטלגים: loading sheet\n",
      "#11.2018-05-29- ORLY -buisenesswomen - ENG.xlsx/Sheet2: loading sheet\n",
      "https://migdar-internal-search.odata.org.il/__data/search_import/2018-07-30- Ayelet - Family violence  heb.xlsx\n",
      "#12.2018-07-30- Ayelet - Family violence  heb.xlsx/Sheet1: loading sheet\n",
      "https://migdar-internal-search.odata.org.il/__data/search_import/2018-08-23- Havatzelet- Feminist Theory  HEB.xlsx\n",
      "#13.2018-08-23- Havatzelet- Feminist Theory  HEB.xlsx/מקוטלגים: loading sheet\n",
      "https://migdar-internal-search.odata.org.il/__data/search_import/2018-08-02- Havatzelet- ECOFEMINISM.xlsx\n",
      "#14.2018-08-02- Havatzelet- ECOFEMINISM.xlsx/מקוטלגים: loading sheet\n",
      "https://migdar-internal-search.odata.org.il/__data/search_import/2018-07-22- Ayelet - Diversity in the workplace  heb.xlsx\n",
      "#15.2018-07-22- Ayelet - Diversity in the workplace  heb.xlsx/Sheet1: loading sheet\n",
      "https://migdar-internal-search.odata.org.il/__data/search_import/2018-06-18- Havatzelet-Christian Women.xlsx\n",
      "#16.2018-06-18- Havatzelet-Christian Women.xlsx/מקוטלגים: loading sheet\n",
      "https://migdar-internal-search.odata.org.il/__data/search_import/2018-06-04- Havatzelet- Arab-Israeli conflict_WOMEN_ HEB.xlsx\n",
      "#17.2018-06-04- Havatzelet- Arab-Israeli conflict_WOMEN_ HEB.xlsx/מקוטלגים: loading sheet\n",
      "https://migdar-internal-search.odata.org.il/__data/search_import/2018-06-07- Havatzelet -buisenesswomen HEB.xlsx\n",
      "#18.2018-06-07- Havatzelet -buisenesswomen HEB.xlsx/מקוטלגים: loading sheet\n",
      "https://migdar-internal-search.odata.org.il/__data/search_import/2018-07-24- Talia -Discrimination in employment heb.xlsx\n",
      "#19.2018-07-24- Talia -Discrimination in employment heb.xlsx/מקוטלגים: loading sheet\n",
      "https://migdar-internal-search.odata.org.il/__data/search_import/2018-06-25- Ayelet -Empowerment HEB.xlsx\n",
      "#20.2018-06-25- Ayelet -Empowerment HEB.xlsx/Sheet1: loading sheet\n",
      "https://migdar-internal-search.odata.org.il/__data/search_import/2018-06-11- Havatzelet- Cleaning Contract.xlsx\n",
      "#21.2018-06-11- Havatzelet- Cleaning Contract.xlsx/מקוטלגים: loading sheet\n",
      "https://migdar-internal-search.odata.org.il/__data/search_import/2018-06-07- Ayelet - Decision making WOMEN heb.xlsx\n",
      "#22.2018-06-07- Ayelet - Decision making WOMEN heb.xlsx/Sheet1: loading sheet\n",
      "https://migdar-internal-search.odata.org.il/__data/search_import/2018-05-03- Talia - Abused Women ENG - modified.xlsx\n",
      "#23.2018-05-03- Talia - Abused Women ENG - modified.xlsx/מקוטלגים: loading sheet\n",
      "#23.2018-05-03- Talia - Abused Women ENG - modified.xlsx/Deteted Items: loading sheet\n",
      "https://migdar-internal-search.odata.org.il/__data/search_import/2018-05-24- Havatzelet- Age_and-employment.xlsx\n",
      "#24.2018-05-24- Havatzelet- Age_and-employment.xlsx/מקוטלגים: loading sheet\n",
      "https://migdar-internal-search.odata.org.il/__data/search_import/2018-06-07- Ayelet - CHRONIC PAIN.xlsx\n",
      "#25.2018-06-07- Ayelet - CHRONIC PAIN.xlsx/Sheet1: loading sheet\n",
      "https://migdar-internal-search.odata.org.il/__data/search_import/2018-06-04 - Ayelet - civil military.xlsx\n",
      "#26.2018-06-04 - Ayelet - civil military.xlsx/Sheet1: loading sheet\n",
      "    2018-06-04 - Ayelet - civil military.xlsx/Sheet1#0: missing migdar_id\n",
      "    2018-06-04 - Ayelet - civil military.xlsx/Sheet1#2: missing migdar_id\n",
      "https://migdar-internal-search.odata.org.il/__data/search_import/2018-05-01-Havatzelet-Abortion.xlsx\n",
      "#27.2018-05-01-Havatzelet-Abortion.xlsx/מקוטלגים: loading sheet\n",
      "https://migdar-internal-search.odata.org.il/__data/search_import/2018-06-04- Havatzelet- Arab-Israeli conflict_WOMEN_ eng.xlsx\n",
      "#28.2018-06-04- Havatzelet- Arab-Israeli conflict_WOMEN_ eng.xlsx/מקוטלגים: loading sheet\n",
      "https://migdar-internal-search.odata.org.il/__data/search_import/2018-05-07_Work and Family-Ayelet2.xlsx\n",
      "#29.2018-05-07_Work and Family-Ayelet2.xlsx/מקוטלגים: loading sheet\n",
      "https://migdar-internal-search.odata.org.il/__data/search_import/2018-05-09- ORLY - Adoption HEB.xlsx\n",
      "#30.2018-05-09- ORLY - Adoption HEB.xlsx/מקוטלגים: loading sheet\n",
      "https://migdar-internal-search.odata.org.il/__data/search_import/2018-05-28 Havatzelet-Age_Discrimination-employment.xlsx\n",
      "#31.2018-05-28 Havatzelet-Age_Discrimination-employment.xlsx/מקוטלגים: loading sheet\n",
      "https://migdar-internal-search.odata.org.il/__data/search_import/2018-05-22- Havatzelet- Affirmative_HEB.xlsx\n",
      "#32.2018-05-22- Havatzelet- Affirmative_HEB.xlsx/מקוטלגים: loading sheet\n",
      "https://migdar-internal-search.odata.org.il/__data/search_import/2018-05-22- Havatzelet- Affirmative_eng.xlsx\n",
      "#33.2018-05-22- Havatzelet- Affirmative_eng.xlsx/מקוטלגים: loading sheet\n",
      "https://migdar-internal-search.odata.org.il/__data/search_import/2018-05-17- Havatzelet- Abused Women HEB2.xlsx\n",
      "#34.2018-05-17- Havatzelet- Abused Women HEB2.xlsx/מקוטלגים: loading sheet\n",
      "https://migdar-internal-search.odata.org.il/__data/search_import/2018-05-16- Havatzelet- Abused Women HEB1.xlsx\n",
      "#35.2018-05-16- Havatzelet- Abused Women HEB1.xlsx/מקוטלגים: loading sheet\n"
     ]
    },
    {
     "data": {
      "text/html": [
       "<table>\n",
       "<thead>\n",
       "<tr><th>#   </th><th>title\n",
       "(string)                                                                                                                         </th><th>pubyear\n",
       "(string)            </th><th style=\"text-align: right;\">      migdar_id\n",
       "(string)</th></tr>\n",
       "</thead>\n",
       "<tbody>\n",
       "<tr><td>1   </td><td>\"<<ה>>חצר הנשית\" : תיעוד והמשגה של פרקטיקה ביקורתית בעבודה סוציאלית עם נערות ונשים צעירות ביפו /                        </td><td>תשס\"ט 2009.</td><td style=\"text-align: right;\">38652</td></tr>\n",
       "<tr><td>2   </td><td>הבדלים בין גברים לנשים בפתרון קונפליקט ובדיאלוג חיובי בתקופת המעבר להורות : הקשר עם בריאות נפשית ושביעות רצון מהזוגיות /</td><td>2008       </td><td style=\"text-align: right;\">38440</td></tr>\n",
       "<tr><td>... </td><td>                                                                                                                        </td><td>           </td><td style=\"text-align: right;\">     </td></tr>\n",
       "<tr><td>2052</td><td>חצויה /                                                                                                                 </td><td>2015 תשע\"ה.</td><td style=\"text-align: right;\"> 2016</td></tr>\n",
       "</tbody>\n",
       "</table>"
      ],
      "text/plain": [
       "<IPython.core.display.HTML object>"
      ]
     },
     "metadata": {},
     "output_type": "display_data"
    },
    {
     "data": {
      "text/plain": [
       "{'count_of_rows': 2052,\n",
       " 'bytes': 2603687,\n",
       " 'hash': '323f4e7f4d752d8f1c668fac966cf706',\n",
       " 'dataset_name': None}"
      ]
     },
     "execution_count": 4,
     "metadata": {},
     "output_type": "execute_result"
    }
   ],
   "source": [
    "from dataflows import Flow, printer, load, dump_to_path, update_resource\n",
    "from tabulator import Stream\n",
    "from openpyxl import load_workbook\n",
    "import tempfile\n",
    "import logging\n",
    "import requests\n",
    "import os\n",
    "\n",
    "def process_row(row):\n",
    "    return {k: str(row[k]) if row.get(k) else '' for k in SEARCH_IMPORT_FIELD_NAMES}\n",
    "\n",
    "\n",
    "def sheet_iterator(first_row, header_row, stream_iter, filename, sheet_name, stream):\n",
    "    def inner_sheet_iterator():\n",
    "        if first_row:\n",
    "            yield process_row(dict(zip(header_row, first_row)))\n",
    "        for row in stream_iter:\n",
    "            yield process_row(dict(zip(header_row, row)))\n",
    "    for i, row in enumerate(inner_sheet_iterator()):\n",
    "        if not row['migdar_id']:\n",
    "            if row['title']:\n",
    "                print('    {}/{}#{}: missing migdar_id'.format(filename, sheet_name, i))\n",
    "        else:\n",
    "            yield row\n",
    "    stream.close()\n",
    "\n",
    "\n",
    "def load_from_gdrive_files(rows):\n",
    "    if rows.res.name == 'search_import_index':\n",
    "        for row_index, row in enumerate(rows, start=1):\n",
    "#             if row_index !=5:\n",
    "#                 continue\n",
    "            file_url = f\"https://migdar-internal-search.odata.org.il/__data/search_import/{row['name']}\"\n",
    "            print(file_url)\n",
    "            with tempfile.NamedTemporaryFile('w+b', suffix='.xlsx') as temp_file:\n",
    "                with migdar_session.get(file_url, stream=True) as response:\n",
    "                    for chunk in response.iter_content():\n",
    "                        temp_file.write(chunk)\n",
    "                temp_file.flush()\n",
    "                wb = load_workbook(temp_file.name)\n",
    "                for sheet_number, sheet_name in enumerate(wb.sheetnames, start=1):\n",
    "                    if 'deleted' in sheet_name.strip().lower():\n",
    "                        continue\n",
    "                    stream = Stream(temp_file.name, sheet=sheet_name)\n",
    "                    stream.open()\n",
    "                    print('#{}.{}/{}: loading sheet'.format(row_index, row['name'], sheet_name))\n",
    "                    stream_iter = stream.iter()\n",
    "                    try:\n",
    "                        first_row = next(stream_iter)\n",
    "                    except StopIteration:\n",
    "                        first_row = None\n",
    "                    if first_row:\n",
    "                        if 'migdar_id' not in first_row and sheet_number > 1:\n",
    "                            header_row = first_sheet_header_row\n",
    "                        else:\n",
    "                            header_row = first_row\n",
    "                            first_row = None\n",
    "                            if sheet_number == 1:\n",
    "                                first_sheet_header_row = header_row\n",
    "                        # print(header_row)\n",
    "                        # for k in header_row:\n",
    "                        #     if k and k not in [f['name'] for f in schema['fields']]:\n",
    "                                # print('found field: {}'.format(k))\n",
    "                        #         field_type = 'string'\n",
    "                        #         schema['fields'].append({'name': k, 'type': field_type})\n",
    "                        yield from sheet_iterator(first_row, header_row, stream_iter, row['name'], sheet_name, stream)\n",
    "    else:\n",
    "        yield from rows\n",
    "                            \n",
    "\n",
    "Flow(\n",
    "    load('https://migdar-internal-search.odata.org.il/__data/search_import/index.csv', \n",
    "         encoding='utf-8', http_session=migdar_session),\n",
    "    update_resource('index', name='search_import_index', path='search_import_index.csv'),\n",
    "    load_from_gdrive_files,\n",
    "    update_resource('search_import_index', name='search_import', path='search_import.csv',\n",
    "                schema={'fields': [{'name': n,  'type': 'string'} for n in SEARCH_IMPORT_FIELD_NAMES]}),\n",
    "    printer(num_rows=1, tablefmt='html', fields=['migdar_id', 'pubyear', 'title']),\n",
    "    dump_to_path('data/search_import_from_gdrive')\n",
    ").process()[1]"
   ]
  },
  {
   "cell_type": "markdown",
   "metadata": {},
   "source": [
    "## Join with the source data\n",
    "\n",
    "The GDrive data contains the user-entered data, this joins it with the source data and full marc data"
   ]
  },
  {
   "cell_type": "code",
   "execution_count": 5,
   "metadata": {},
   "outputs": [
    {
     "data": {
      "text/html": [
       "<h3>unique_records</h3>"
      ],
      "text/plain": [
       "<IPython.core.display.HTML object>"
      ]
     },
     "metadata": {},
     "output_type": "display_data"
    },
    {
     "data": {
      "text/html": [
       "<table>\n",
       "<thead>\n",
       "<tr><th>#  </th><th>title\n",
       "(string)                                                            </th><th style=\"text-align: right;\">     migdar_id\n",
       "(string)</th><th>gd_Life Domains\n",
       "(string)                </th></tr>\n",
       "</thead>\n",
       "<tbody>\n",
       "<tr><td>1  </td><td>הפסקות הריון על פי החוק : 2003-1990 /                      </td><td style=\"text-align: right;\"> 178</td><td>Health         </td></tr>\n",
       "<tr><td>2  </td><td>הפסקות הריון על פי החוק : 2004-1990 /                      </td><td style=\"text-align: right;\"> 186</td><td>Health         </td></tr>\n",
       "<tr><td>...</td><td>                                                           </td><td style=\"text-align: right;\">    </td><td>               </td></tr>\n",
       "<tr><td>389</td><td>The enigma woman the death sentence of Nellie May Madison /</td><td style=\"text-align: right;\">2993</td><td>Gender Violence</td></tr>\n",
       "</tbody>\n",
       "</table>"
      ],
      "text/plain": [
       "<IPython.core.display.HTML object>"
      ]
     },
     "metadata": {},
     "output_type": "display_data"
    },
    {
     "data": {
      "text/plain": [
       "{'count_of_rows': 389,\n",
       " 'bytes': 2754961,\n",
       " 'hash': '1ea8cfc5ffc6e950e3691e827c4f63e2',\n",
       " 'dataset_name': None}"
      ]
     },
     "execution_count": 5,
     "metadata": {},
     "output_type": "execute_result"
    }
   ],
   "source": [
    "from dataflows import Flow, load, join, printer, set_type\n",
    "\n",
    "Flow(\n",
    "    load('data/search_import_from_gdrive/datapackage.json', resources=['search_import']),\n",
    "    load('data/search_results/unique_records.csv', resources=['unique_records']),\n",
    "    set_type('migdar_id', type='string', resources=['unique_records', 'search_import']),\n",
    "    join(source_name='search_import', source_key=['migdar_id'],\n",
    "         target_name='unique_records', target_key=['migdar_id'],\n",
    "         fields={f'gd_{field}': {'name': field} for field in SEARCH_IMPORT_FIELD_NAMES},\n",
    "         full=False),\n",
    "    printer(tablefmt='html', num_rows=1, fields=['title', 'migdar_id', 'gd_Life Domains']),\n",
    "    dump_to_path('data/unique_records_full')\n",
    ").process()[1]"
   ]
  },
  {
   "cell_type": "markdown",
   "metadata": {},
   "source": [
    "## Join with the search app data\n",
    "\n",
    "**there isn't any data yet from the search app (Oct 23, 2018)**"
   ]
  },
  {
   "cell_type": "code",
   "execution_count": 6,
   "metadata": {},
   "outputs": [
    {
     "name": "stdout",
     "output_type": "stream",
     "text": [
      "saving checkpoint to: .checkpoints/gdrive_search_app_source_data\n",
      "#0. 0fb41d0f8f2d4fdbb444b5605ace15f2 (asdfisjdofijsadfasdf/heb)\n",
      "#1. becab2849d1a403fba5e3a73d6dfa77e (asdfisjdofijsadfasdf/heb)\n",
      "#2. 83596544daf448caafdead9409f953a8 (discrimination against black women/heb)\n"
     ]
    },
    {
     "data": {
      "text/html": [
       "<h3>search_app_records</h3>"
      ],
      "text/plain": [
       "<IPython.core.display.HTML object>"
      ]
     },
     "metadata": {},
     "output_type": "display_data"
    },
    {
     "name": "stdout",
     "output_type": "stream",
     "text": [
      "#3. d05c183d5ba548dea3e649fdd738ca54 (discrimination/heb)\n",
      "#4. 42ce23d9dc924e1ab2ce856990399180 (safasdfasdfsadf/heb)\n",
      "#5. 56cf98417e0e4884ba7d44c4882f687a (adoption black women/heb)\n",
      "#6. b07130541dd74e1ba33ad1130279721b (adoption women/heb)\n",
      "#7. 75b8f2db4f9a45b78fc522dbabcbf80f (abortion/arb)\n",
      "#8. 5a63c01f0717490abf593130675cba6d (discrimination against women/heb)\n",
      "#9. da40ead706194a9baf20a9e77c1f5549 (\"נשים\"/heb)\n",
      "#10. 0791e557229146448975e81206350af9 (\"אפליה נגד נשים\"/heb)\n",
      "#11. 72b0fca7a3ce47cc99b46046054f1891 (discrimination/heb)\n",
      "#12. 2f0b05980d164dce96daf49459e2ee0e (\"אפליה נגד נשים פלשתינאיות\"/heb)\n",
      "#13. c254f0d6249c48478db58d31869bb892 (\"מחשבים\"/heb)\n",
      "#14. cec11054239e4822933db80b86d80312 (\"מחשבים\"/heb)\n",
      "#15. d5225b0fbf0c483492864d0763085a89 (\"הדרה של נשים\"/heb)\n",
      "#16. eb78226b2a5946fea12fd723facebdb5 (\"הדרה של נשים\"/heb)\n",
      "#17. 14ab8e3e925347d8acf003579fb685aa (\"בדואיות\"/arb)\n",
      "#18. 58591008756d40769448495d607d81bc (\"בדואיות\"/arb)\n",
      "#19. c626a9bc80314103b05eda44f3f039bc (\"אפליה נשים\"/heb)\n",
      "#20. d4248c45b3e745748ba49820e3a79440 (-/ara)\n",
      "#21. 483406b84dfc4a5fb40a1136d43cce70 (-/ara)\n",
      "#22. 461d5ae6d809408d868cc48c02bf6229 ( israel, women/ara)\n",
      "#23. cf2628c6294d47869866439ca384cf68 (test/heb)\n",
      "#24. a08da65030a04b2892366193efd1812d (test one two three/heb)\n",
      "#25. 07d798a364bf4339a4ea9dbdb72866d1 (Testing one two three/heb)\n",
      "#26. 6b3fb163c5bb4b8392578cca18c1ffb2 (testing one two three/heb)\n",
      "#27. 3e7c28beb1624b4abe8a6cb0e0eedd17 ( Abortion -- Law and legislation -- Fiction/heb)\n",
      "#28. 51b8eed647974641b8cd77ca7d946168 ( Abortion -- Law and legislation -- Fiction/ara)\n",
      "#29. a249beb23ec84c219be68da747f3b6e0 ( Abortion -- Law and legislation -- Fiction/eng)\n",
      "#30. a71b243c63fd4e3684ab70a3c44ca276 ( Abortion/heb)\n",
      "#31. df07df4b810f40d1a1574c7bb95aa418 ( Abortion/ara)\n",
      "#32. 2acbc9a1532240c88800822e330599be ( feminism/ara)\n",
      "#33. 306c6d3d879f432981778322ab9b5020 ( abortion/heb)\n",
      "#34. 33896be11f73435cb75784c01e8379cf ( abortion/heb)\n",
      "#35. 680a0c6982ef480bb1f8f8f9b29f05c0 ( Abortion/ara)\n",
      "#36. ddeefb036b584e449562519057bf83f2 ( Abortion/ara)\n",
      "#37. 464ecabc8a23442684c2dcc9b55a7a8f ( Women/ara)\n",
      "#38. 30fb2dc28d104fffbbe53351f5d7acca ( Women/eng)\n",
      "#39. c91d0dee4b09418f87f381e65ad19e6a ( Women, Abortion/eng)\n",
      "#40. bcedd0599dbb49eab6d140b2a618a967 ( Abuse/heb)\n",
      "#41. e6056d6a081140a1b40b4f7f89a52288 ( abuse/heb)\n",
      "#42. dd2e68f40c544f7e95d15fa905c2b187 ( abuse/ara)\n",
      "#43. 58ec02f10121457e9c00c49c83bdc41b ( abuse/ara)\n",
      "#44. 40195ef2e2b74b868132a8cf3c3a014a (בדיקה אחת שתיים שלוש/heb)\n",
      "#45. dae4717e4ca64b658d8839d64ae3c44b ( abuse, women/heb)\n",
      "#46. df58525f3a2f4dcfbf70c1f1b67a7276 ( Feminist/ara)\n",
      "#47. 659bbcc44b93441289c991f689fdd740 ( Budget/heb)\n",
      "#48. ca66e7cdfa06458b97ac52f2a10c3705 ( Budget -- Sex differences/heb)\n",
      "#49. 703ccc54ced34e86a4e19ec372d5ced4 ( Budget  , Sex differences/heb)\n",
      "#50. cce36cedeead4272a7f5f03c7abd6c04 ( Budget  , Sex differences/ara)\n",
      "#51. ae0abf1932904ea6b3619b1523da7fd5 ( Feminist/ara)\n",
      "#52. 4c54819e3fc9452abcf8b4e9bced5390 ( Municipal government , differences/heb)\n",
      "#53. 6c5f3f929f1542d492cad16b64c2908b ( Body image/heb)\n",
      "#54. 69228363a55d401d90d1144ce52c50b7 ( Body image, Locus of control/heb)\n",
      "#55. 93f8323b820646778eaf296ca34f5848 ( Older women/heb)\n",
      "#56. a43d2542b4f84c5c819a65405784bbe4 ( Older women, Labor market/heb)\n"
     ]
    },
    {
     "data": {
      "text/html": [
       "<table>\n",
       "<thead>\n",
       "<tr></tr>\n",
       "</thead>\n",
       "<tbody>\n",
       "</tbody>\n",
       "</table>"
      ],
      "text/plain": [
       "<IPython.core.display.HTML object>"
      ]
     },
     "metadata": {},
     "output_type": "display_data"
    },
    {
     "name": "stdout",
     "output_type": "stream",
     "text": [
      "checkpoint saved: gdrive_search_app_source_data\n"
     ]
    },
    {
     "data": {
      "text/plain": [
       "{'count_of_rows': 0,\n",
       " 'bytes': 4996,\n",
       " 'hash': '215e660d2db2c2e316aecdbeb771453d',\n",
       " 'dataset_name': None}"
      ]
     },
     "execution_count": 6,
     "metadata": {},
     "output_type": "execute_result"
    }
   ],
   "source": [
    "from tabulator import Stream\n",
    "from dataflows import Flow, printer, checkpoint, load, dump_to_path, update_resource, set_type, join\n",
    "\n",
    "!{'rm -rf .checkpoints/gdrive_search_app_source_data'}\n",
    "\n",
    "def load_search_app_data():\n",
    "    with Stream('https://migdar-internal-search.odata.org.il/__data/search_app/index.csv', \n",
    "                http_session=migdar_session) as index_stream:\n",
    "        for i, row in enumerate(index_stream.iter()):\n",
    "#             if i > 5:\n",
    "#                 continue\n",
    "            search_id = row[4]\n",
    "            print(f\"#{i}. {search_id} ({row[0]}/{row[1]})\")\n",
    "            url = f'https://migdar-internal-search.odata.org.il/__data/search_app/{search_id}/records.csv'\n",
    "            with Stream(url, headers=1, http_session=migdar_session) as data_stream:\n",
    "                for rownum, row in enumerate(data_stream.iter(keyed=True)):\n",
    "                    row['migdar_id'] = f'{search_id}-{rownum}'\n",
    "                    yield row\n",
    "\n",
    "Flow(\n",
    "    load('data/search_import_from_gdrive/datapackage.json', resources=['search_import']),\n",
    "    load_search_app_data(),\n",
    "    update_resource('res_2', name='search_app_records', path='search_app_records.csv'),\n",
    "    checkpoint('gdrive_search_app_source_data'),\n",
    "    join(source_name='search_import', source_key=['migdar_id'],\n",
    "         target_name='search_app_records', target_key=['migdar_id'],\n",
    "         fields={f'gd_{field}': {'name': field} for field in SEARCH_IMPORT_FIELD_NAMES},\n",
    "         full=False),\n",
    "    printer(tablefmt='html', num_rows=1, fields=['migdar_id']),\n",
    "    dump_to_path('data/app_records_full')\n",
    ").process()[1]"
   ]
  },
  {
   "cell_type": "code",
   "execution_count": 9,
   "metadata": {},
   "outputs": [],
   "source": []
  },
  {
   "cell_type": "code",
   "execution_count": 9,
   "metadata": {},
   "outputs": [],
   "source": []
  }
 ],
 "metadata": {
  "kernelspec": {
   "display_name": "Python 3",
   "language": "python",
   "name": "python3"
  },
  "language_info": {
   "codemirror_mode": {
    "name": "ipython",
    "version": 3
   },
   "file_extension": ".py",
   "mimetype": "text/x-python",
   "name": "python",
   "nbconvert_exporter": "python",
   "pygments_lexer": "ipython3",
   "version": "3.6.6"
  }
 },
 "nbformat": 4,
 "nbformat_minor": 2
}
